{
 "cells": [
  {
   "cell_type": "markdown",
   "metadata": {
    "id": "zq74O60_pTB2"
   },
   "source": [
    "#Quiz weeek 2 Demo"
   ]
  },
  {
   "cell_type": "code",
   "execution_count": 3,
   "metadata": {},
   "outputs": [
    {
     "name": "stdout",
     "output_type": "stream",
     "text": [
      "Writing streamlit_DM_demo.py\n"
     ]
    }
   ],
   "source": [
    "%%writefile streamlit_DM_demo.py\n",
    "\n",
    "import streamlit as st\n",
    "\n",
    "st.title(\"Here is our first Web Application\")\n",
    "st.header(\"Let's roll the dice :sunglasses: \", divider='rainbow')\n",
    "st.write(\"Look how esily we can build and tun a web application\")\n",
    "st.write(\"And by the way, list comprehensions are superior\")\n",
    "st.rwite(\"Hello I'm very happy about the interest in GitHub\")\n"
   ]
  },
  {
   "cell_type": "code",
   "execution_count": 1,
   "metadata": {
    "id": "k8cYxfosm12M"
   },
   "outputs": [],
   "source": [
    "#Executing an empty list\n",
    "for i in range(0, -5):\n",
    "  print(i)\n",
    "\n",
    "for i in []:\n",
    "  print(i)\n",
    "\n",
    "###Adding other things"
   ]
  },
  {
   "cell_type": "code",
   "execution_count": 8,
   "metadata": {
    "id": "J9V3tSw6oVoO"
   },
   "outputs": [],
   "source": [
    "#Float vs integer comparisons\n",
    "if -5.5 >= 0:\n",
    "  print(\"This will execute\")"
   ]
  },
  {
   "cell_type": "markdown",
   "metadata": {
    "id": "D7NTH0L5sKNK"
   },
   "source": [
    "##Double for-loop"
   ]
  },
  {
   "cell_type": "code",
   "execution_count": 2,
   "metadata": {
    "id": "oGZ5sHqApbrW"
   },
   "outputs": [
    {
     "name": "stdout",
     "output_type": "stream",
     "text": [
      "abcdefghijklmnopqrstuvwxyz\n",
      "a0\n",
      "a1\n",
      "a2\n",
      "a3\n",
      "a4\n",
      "a5\n",
      "a6\n",
      "a7\n",
      "a8\n",
      "a9\n",
      "a10\n",
      "b0\n",
      "b1\n",
      "b2\n",
      "b3\n",
      "b4\n",
      "b5\n",
      "b6\n",
      "b7\n",
      "b8\n",
      "b9\n",
      "b10\n",
      "c0\n",
      "c1\n",
      "c2\n",
      "c3\n",
      "c4\n",
      "c5\n",
      "c6\n",
      "c7\n",
      "c8\n",
      "c9\n",
      "c10\n",
      "d0\n",
      "d1\n",
      "d2\n",
      "d3\n",
      "d4\n",
      "d5\n",
      "d6\n",
      "d7\n",
      "d8\n",
      "d9\n",
      "d10\n",
      "e0\n",
      "e1\n",
      "e2\n",
      "e3\n",
      "e4\n",
      "e5\n",
      "e6\n",
      "e7\n",
      "e8\n",
      "e9\n",
      "e10\n",
      "f0\n",
      "f1\n",
      "f2\n",
      "f3\n",
      "f4\n",
      "f5\n",
      "f6\n",
      "f7\n",
      "f8\n",
      "f9\n",
      "f10\n",
      "g0\n",
      "g1\n",
      "g2\n",
      "g3\n",
      "g4\n",
      "g5\n",
      "g6\n",
      "g7\n",
      "g8\n",
      "g9\n",
      "g10\n",
      "h0\n",
      "h1\n",
      "h2\n",
      "h3\n",
      "h4\n",
      "h5\n",
      "h6\n",
      "h7\n",
      "h8\n",
      "h9\n",
      "h10\n",
      "i0\n",
      "i1\n",
      "i2\n",
      "i3\n",
      "i4\n",
      "i5\n",
      "i6\n",
      "i7\n",
      "i8\n",
      "i9\n",
      "i10\n",
      "j0\n",
      "j1\n",
      "j2\n",
      "j3\n",
      "j4\n",
      "j5\n",
      "j6\n",
      "j7\n",
      "j8\n",
      "j9\n",
      "j10\n",
      "k0\n",
      "k1\n",
      "k2\n",
      "k3\n",
      "k4\n",
      "k5\n",
      "k6\n",
      "k7\n",
      "k8\n",
      "k9\n",
      "k10\n",
      "l0\n",
      "l1\n",
      "l2\n",
      "l3\n",
      "l4\n",
      "l5\n",
      "l6\n",
      "l7\n",
      "l8\n",
      "l9\n",
      "l10\n",
      "m0\n",
      "m1\n",
      "m2\n",
      "m3\n",
      "m4\n",
      "m5\n",
      "m6\n",
      "m7\n",
      "m8\n",
      "m9\n",
      "m10\n",
      "n0\n",
      "n1\n",
      "n2\n",
      "n3\n",
      "n4\n",
      "n5\n",
      "n6\n",
      "n7\n",
      "n8\n",
      "n9\n",
      "n10\n",
      "o0\n",
      "o1\n",
      "o2\n",
      "o3\n",
      "o4\n",
      "o5\n",
      "o6\n",
      "o7\n",
      "o8\n",
      "o9\n",
      "o10\n",
      "p0\n",
      "p1\n",
      "p2\n",
      "p3\n",
      "p4\n",
      "p5\n",
      "p6\n",
      "p7\n",
      "p8\n",
      "p9\n",
      "p10\n",
      "q0\n",
      "q1\n",
      "q2\n",
      "q3\n",
      "q4\n",
      "q5\n",
      "q6\n",
      "q7\n",
      "q8\n",
      "q9\n",
      "q10\n",
      "r0\n",
      "r1\n",
      "r2\n",
      "r3\n",
      "r4\n",
      "r5\n",
      "r6\n",
      "r7\n",
      "r8\n",
      "r9\n",
      "r10\n",
      "s0\n",
      "s1\n",
      "s2\n",
      "s3\n",
      "s4\n",
      "s5\n",
      "s6\n",
      "s7\n",
      "s8\n",
      "s9\n",
      "s10\n",
      "t0\n",
      "t1\n",
      "t2\n",
      "t3\n",
      "t4\n",
      "t5\n",
      "t6\n",
      "t7\n",
      "t8\n",
      "t9\n",
      "t10\n",
      "u0\n",
      "u1\n",
      "u2\n",
      "u3\n",
      "u4\n",
      "u5\n",
      "u6\n",
      "u7\n",
      "u8\n",
      "u9\n",
      "u10\n",
      "v0\n",
      "v1\n",
      "v2\n",
      "v3\n",
      "v4\n",
      "v5\n",
      "v6\n",
      "v7\n",
      "v8\n",
      "v9\n",
      "v10\n",
      "w0\n",
      "w1\n",
      "w2\n",
      "w3\n",
      "w4\n",
      "w5\n",
      "w6\n",
      "w7\n",
      "w8\n",
      "w9\n",
      "w10\n",
      "x0\n",
      "x1\n",
      "x2\n",
      "x3\n",
      "x4\n",
      "x5\n",
      "x6\n",
      "x7\n",
      "x8\n",
      "x9\n",
      "x10\n",
      "y0\n",
      "y1\n",
      "y2\n",
      "y3\n",
      "y4\n",
      "y5\n",
      "y6\n",
      "y7\n",
      "y8\n",
      "y9\n",
      "y10\n",
      "z0\n",
      "z1\n",
      "z2\n",
      "z3\n",
      "z4\n",
      "z5\n",
      "z6\n",
      "z7\n",
      "z8\n",
      "z9\n",
      "z10\n"
     ]
    }
   ],
   "source": [
    "#Task: Print every letter in the alphabet ten times. This should have the following format:\n",
    "# \"a0\", \"a1\", \"a2\".....\"a10\", \"b0\", \"b1\", \"b2\" etc\n",
    "#Instead of writing all characters in the alphabet, let me import a library that does it for me!\n",
    "import string\n",
    "all_letters = string.ascii_lowercase\n",
    "print(all_letters)\n",
    "\n",
    "#Now, I will create a for-loop, and inside that for-loop, I will create a second for-loop!\n",
    "\n",
    "for letter in all_letters:\n",
    "  for num in range(0,11):\n",
    "    print(letter + str(num))"
   ]
  },
  {
   "cell_type": "markdown",
   "metadata": {
    "id": "L1c_zHr5uPA7"
   },
   "source": [
    "##Week 3: Functions\n",
    "\n",
    "Again, functions are pre-prepared blocks of code that you need to define and then call with _arguments_.\n",
    "\n",
    "The starting inputs are your _parameters_\n",
    "\n",
    "Here is an example of a function, and why they can make life a lot easier!\n",
    "(Also, I am unabashedly showing off, but you have all the knowledge and skills already to pull something like this off yourselves!)"
   ]
  },
  {
   "cell_type": "code",
   "execution_count": null,
   "metadata": {
    "id": "fjJ3HbaOuOd2"
   },
   "outputs": [],
   "source": [
    "def play_slots(tokens, name = \"Player\"):\n",
    "  import random\n",
    "  name = str(name)\n",
    "\n",
    "  print(\"Welcome \" + name + \"!\")\n",
    "\n",
    "  total = 0\n",
    "\n",
    "  while tokens > 0:\n",
    "    tokens -= 1\n",
    "    print(\"Let's spin the wheel of good fortune!\")\n",
    "    jackpot = random.randint(0,100)\n",
    "    if jackpot == 100:\n",
    "      print(\"J-A-C-K-P-O-T!!!!!!!\")\n",
    "      total += jackpot\n",
    "    else:\n",
    "      win = random.randint(0,1)\n",
    "      print(f\"You won {win}!\")\n",
    "      total += win\n",
    "\n",
    "\n",
    "\n",
    "  print(f\"Your final winnings are {total}! Please go collect them at the cash register.\")\n",
    "  print(\"\")\n",
    "\n",
    "\n"
   ]
  },
  {
   "cell_type": "markdown",
   "metadata": {
    "id": "vtAPOIBOv_TC"
   },
   "source": [
    "Let's play some slots!"
   ]
  },
  {
   "cell_type": "code",
   "execution_count": null,
   "metadata": {
    "id": "7dfD4ZZCv7nd"
   },
   "outputs": [],
   "source": [
    "play_slots(5, \"Dave\")"
   ]
  },
  {
   "cell_type": "markdown",
   "metadata": {
    "id": "iBxvpwYUwvfN"
   },
   "source": [
    "Now, let's simulate an entire casino night!\n",
    "I will write a list with a bunch of names, and a second list with a bunch of numbers for their money!"
   ]
  },
  {
   "cell_type": "markdown",
   "metadata": {
    "id": "-rfpBiTsvwsM"
   },
   "source": [
    "Let's demonstrate the local scope:"
   ]
  },
  {
   "cell_type": "code",
   "execution_count": null,
   "metadata": {
    "id": "HSZTf-NovvfH"
   },
   "outputs": [],
   "source": [
    "#Local scope\n",
    "\n",
    "p = random.randint(0,5)\n",
    "\n",
    "print(total)\n",
    "\n"
   ]
  },
  {
   "cell_type": "markdown",
   "metadata": {
    "id": "eHe8gmQ1zymK"
   },
   "source": [
    "Now I want to demonstrate how neat this all can be - don't worry, from here on out you are not required to understand anything anymore (for now)."
   ]
  },
  {
   "cell_type": "code",
   "execution_count": null,
   "metadata": {
    "id": "pBcAXvTEw6uW"
   },
   "outputs": [],
   "source": [
    "import random\n",
    "customers = [\"Jack\", \"Roger\", \"Judy\", \"Leo\", \"Sabine\", \"Bethany\", \"Rupert\", \"Matthias\", \"Ella\", \"Archibald\"]\n",
    "\n",
    "tokens = [random.randint(3,7) for i in range(0,10)]\n",
    "\n",
    "print(len(customers))\n",
    "print(len(tokens))\n",
    "\n"
   ]
  },
  {
   "cell_type": "markdown",
   "metadata": {
    "id": "BWYTDqYgxkoJ"
   },
   "source": [
    "Now we are ready!"
   ]
  },
  {
   "cell_type": "code",
   "execution_count": null,
   "metadata": {
    "id": "AcVXdmbSxl02"
   },
   "outputs": [],
   "source": [
    "for i in range(0,len(customers)):\n",
    "\n",
    "  play_slots(tokens[i], customers[i])\n",
    "\n",
    "print(\"The night at the casino has come to an end\")"
   ]
  },
  {
   "cell_type": "markdown",
   "metadata": {
    "id": "GGkZTrbA05TX"
   },
   "source": [
    "###A very small sneak-peek!"
   ]
  },
  {
   "cell_type": "code",
   "execution_count": null,
   "metadata": {
    "colab": {
     "base_uri": "https://localhost:8080/"
    },
    "id": "mQXrFO700R1A",
    "outputId": "ddd4b67c-a55c-49ba-f472-d3ab1ead32c2"
   },
   "outputs": [
    {
     "name": "stdout",
     "output_type": "stream",
     "text": [
      "{'Jack': 6, 'Roger': 5, 'Judy': 6, 'Leo': 5, 'Sabine': 3, 'Bethany': 6, 'Rupert': 5, 'Matthias': 3, 'Ella': 5, 'Archibald': 7}\n"
     ]
    }
   ],
   "source": [
    "#Ultimate sneak peek!\n",
    "\n",
    "casino_night = dict(zip(customers, tokens))\n",
    "\n",
    "print(casino_night)"
   ]
  },
  {
   "cell_type": "code",
   "execution_count": null,
   "metadata": {
    "colab": {
     "base_uri": "https://localhost:8080/"
    },
    "id": "pskacZSu0eR5",
    "outputId": "faa93994-b7d0-4f4f-b8f7-6b70ad31d2c3"
   },
   "outputs": [
    {
     "name": "stdout",
     "output_type": "stream",
     "text": [
      "Welcome Jack!\n",
      "Let's spin the wheel of good fortune!\n",
      "You won 0!\n",
      "Let's spin the wheel of good fortune!\n",
      "You won 1!\n",
      "Let's spin the wheel of good fortune!\n",
      "You won 0!\n",
      "Let's spin the wheel of good fortune!\n",
      "You won 1!\n",
      "Let's spin the wheel of good fortune!\n",
      "You won 0!\n",
      "Let's spin the wheel of good fortune!\n",
      "You won 0!\n",
      "Your final winnings are 2! Please go collect them at the cash register.\n",
      "\n",
      "Welcome Roger!\n",
      "Let's spin the wheel of good fortune!\n",
      "You won 0!\n",
      "Let's spin the wheel of good fortune!\n",
      "You won 0!\n",
      "Let's spin the wheel of good fortune!\n",
      "You won 1!\n",
      "Let's spin the wheel of good fortune!\n",
      "You won 1!\n",
      "Let's spin the wheel of good fortune!\n",
      "You won 0!\n",
      "Your final winnings are 2! Please go collect them at the cash register.\n",
      "\n",
      "Welcome Judy!\n",
      "Let's spin the wheel of good fortune!\n",
      "You won 1!\n",
      "Let's spin the wheel of good fortune!\n",
      "You won 1!\n",
      "Let's spin the wheel of good fortune!\n",
      "You won 1!\n",
      "Let's spin the wheel of good fortune!\n",
      "You won 0!\n",
      "Let's spin the wheel of good fortune!\n",
      "You won 0!\n",
      "Let's spin the wheel of good fortune!\n",
      "You won 1!\n",
      "Your final winnings are 4! Please go collect them at the cash register.\n",
      "\n",
      "Welcome Leo!\n",
      "Let's spin the wheel of good fortune!\n",
      "You won 0!\n",
      "Let's spin the wheel of good fortune!\n",
      "You won 1!\n",
      "Let's spin the wheel of good fortune!\n",
      "You won 1!\n",
      "Let's spin the wheel of good fortune!\n",
      "You won 0!\n",
      "Let's spin the wheel of good fortune!\n",
      "You won 0!\n",
      "Your final winnings are 2! Please go collect them at the cash register.\n",
      "\n",
      "Welcome Sabine!\n",
      "Let's spin the wheel of good fortune!\n",
      "You won 0!\n",
      "Let's spin the wheel of good fortune!\n",
      "You won 1!\n",
      "Let's spin the wheel of good fortune!\n",
      "You won 0!\n",
      "Your final winnings are 1! Please go collect them at the cash register.\n",
      "\n",
      "Welcome Bethany!\n",
      "Let's spin the wheel of good fortune!\n",
      "You won 0!\n",
      "Let's spin the wheel of good fortune!\n",
      "You won 0!\n",
      "Let's spin the wheel of good fortune!\n",
      "You won 0!\n",
      "Let's spin the wheel of good fortune!\n",
      "You won 0!\n",
      "Let's spin the wheel of good fortune!\n",
      "You won 0!\n",
      "Let's spin the wheel of good fortune!\n",
      "You won 1!\n",
      "Your final winnings are 1! Please go collect them at the cash register.\n",
      "\n",
      "Welcome Rupert!\n",
      "Let's spin the wheel of good fortune!\n",
      "You won 0!\n",
      "Let's spin the wheel of good fortune!\n",
      "You won 1!\n",
      "Let's spin the wheel of good fortune!\n",
      "You won 1!\n",
      "Let's spin the wheel of good fortune!\n",
      "You won 1!\n",
      "Let's spin the wheel of good fortune!\n",
      "You won 0!\n",
      "Your final winnings are 3! Please go collect them at the cash register.\n",
      "\n",
      "Welcome Matthias!\n",
      "Let's spin the wheel of good fortune!\n",
      "You won 1!\n",
      "Let's spin the wheel of good fortune!\n",
      "You won 0!\n",
      "Let's spin the wheel of good fortune!\n",
      "You won 0!\n",
      "Your final winnings are 1! Please go collect them at the cash register.\n",
      "\n",
      "Welcome Ella!\n",
      "Let's spin the wheel of good fortune!\n",
      "You won 1!\n",
      "Let's spin the wheel of good fortune!\n",
      "You won 1!\n",
      "Let's spin the wheel of good fortune!\n",
      "You won 0!\n",
      "Let's spin the wheel of good fortune!\n",
      "You won 1!\n",
      "Let's spin the wheel of good fortune!\n",
      "You won 0!\n",
      "Your final winnings are 3! Please go collect them at the cash register.\n",
      "\n",
      "Welcome Archibald!\n",
      "Let's spin the wheel of good fortune!\n",
      "You won 1!\n",
      "Let's spin the wheel of good fortune!\n",
      "You won 1!\n",
      "Let's spin the wheel of good fortune!\n",
      "You won 1!\n",
      "Let's spin the wheel of good fortune!\n",
      "You won 1!\n",
      "Let's spin the wheel of good fortune!\n",
      "You won 1!\n",
      "Let's spin the wheel of good fortune!\n",
      "You won 1!\n",
      "Let's spin the wheel of good fortune!\n",
      "You won 0!\n",
      "Your final winnings are 6! Please go collect them at the cash register.\n",
      "\n"
     ]
    }
   ],
   "source": [
    "for key, value in casino_night.items():\n",
    "  play_slots(value, key)"
   ]
  }
 ],
 "metadata": {
  "colab": {
   "provenance": []
  },
  "kernelspec": {
   "display_name": "Python 3 (ipykernel)",
   "language": "python",
   "name": "python3"
  },
  "language_info": {
   "codemirror_mode": {
    "name": "ipython",
    "version": 3
   },
   "file_extension": ".py",
   "mimetype": "text/x-python",
   "name": "python",
   "nbconvert_exporter": "python",
   "pygments_lexer": "ipython3",
   "version": "3.11.4"
  }
 },
 "nbformat": 4,
 "nbformat_minor": 1
}
